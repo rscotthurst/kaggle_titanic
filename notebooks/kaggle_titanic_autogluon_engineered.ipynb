{
 "cells": [
  {
   "cell_type": "markdown",
   "metadata": {},
   "source": [
    "### Similar to before, but this time I'll play with the features a bit"
   ]
  },
  {
   "cell_type": "code",
   "execution_count": 1,
   "metadata": {},
   "outputs": [],
   "source": [
    "from autogluon import TabularPrediction as task\n",
    "import pandas as pd"
   ]
  },
  {
   "cell_type": "code",
   "execution_count": 2,
   "metadata": {},
   "outputs": [],
   "source": [
    "train_data = pd.read_csv(\"../data/train.csv\")\n",
    "test_data = pd.read_csv(\"../data/test.csv\")"
   ]
  },
  {
   "cell_type": "code",
   "execution_count": 3,
   "metadata": {},
   "outputs": [
    {
     "name": "stdout",
     "output_type": "stream",
     "text": [
      "<class 'pandas.core.frame.DataFrame'>\n",
      "RangeIndex: 891 entries, 0 to 890\n",
      "Data columns (total 12 columns):\n",
      " #   Column       Non-Null Count  Dtype  \n",
      "---  ------       --------------  -----  \n",
      " 0   PassengerId  891 non-null    int64  \n",
      " 1   Survived     891 non-null    int64  \n",
      " 2   Pclass       891 non-null    int64  \n",
      " 3   Name         891 non-null    object \n",
      " 4   Sex          891 non-null    object \n",
      " 5   Age          714 non-null    float64\n",
      " 6   SibSp        891 non-null    int64  \n",
      " 7   Parch        891 non-null    int64  \n",
      " 8   Ticket       891 non-null    object \n",
      " 9   Fare         891 non-null    float64\n",
      " 10  Cabin        204 non-null    object \n",
      " 11  Embarked     889 non-null    object \n",
      "dtypes: float64(2), int64(5), object(5)\n",
      "memory usage: 83.7+ KB\n"
     ]
    }
   ],
   "source": [
    "train_data.info()"
   ]
  },
  {
   "cell_type": "markdown",
   "metadata": {},
   "source": [
    "##### Survival Rate Per Class"
   ]
  },
  {
   "cell_type": "code",
   "execution_count": 4,
   "metadata": {},
   "outputs": [
    {
     "data": {
      "text/html": [
       "<div>\n",
       "<style scoped>\n",
       "    .dataframe tbody tr th:only-of-type {\n",
       "        vertical-align: middle;\n",
       "    }\n",
       "\n",
       "    .dataframe tbody tr th {\n",
       "        vertical-align: top;\n",
       "    }\n",
       "\n",
       "    .dataframe thead th {\n",
       "        text-align: right;\n",
       "    }\n",
       "</style>\n",
       "<table border=\"1\" class=\"dataframe\">\n",
       "  <thead>\n",
       "    <tr style=\"text-align: right;\">\n",
       "      <th>Survived</th>\n",
       "      <th>0</th>\n",
       "      <th>1</th>\n",
       "    </tr>\n",
       "    <tr>\n",
       "      <th>Pclass</th>\n",
       "      <th></th>\n",
       "      <th></th>\n",
       "    </tr>\n",
       "  </thead>\n",
       "  <tbody>\n",
       "    <tr>\n",
       "      <th>1</th>\n",
       "      <td>80</td>\n",
       "      <td>136</td>\n",
       "    </tr>\n",
       "    <tr>\n",
       "      <th>2</th>\n",
       "      <td>97</td>\n",
       "      <td>87</td>\n",
       "    </tr>\n",
       "    <tr>\n",
       "      <th>3</th>\n",
       "      <td>372</td>\n",
       "      <td>119</td>\n",
       "    </tr>\n",
       "  </tbody>\n",
       "</table>\n",
       "</div>"
      ],
      "text/plain": [
       "Survived    0    1\n",
       "Pclass            \n",
       "1          80  136\n",
       "2          97   87\n",
       "3         372  119"
      ]
     },
     "execution_count": 4,
     "metadata": {},
     "output_type": "execute_result"
    }
   ],
   "source": [
    "pd.crosstab(index=train_data['Pclass'], columns=train_data['Survived'])"
   ]
  },
  {
   "cell_type": "markdown",
   "metadata": {},
   "source": [
    "##### Affect of Age on Survival"
   ]
  },
  {
   "cell_type": "code",
   "execution_count": 5,
   "metadata": {},
   "outputs": [
    {
     "data": {
      "text/plain": [
       "count    714.000000\n",
       "mean      29.699118\n",
       "std       14.526497\n",
       "min        0.420000\n",
       "25%       20.125000\n",
       "50%       28.000000\n",
       "75%       38.000000\n",
       "max       80.000000\n",
       "Name: Age, dtype: float64"
      ]
     },
     "execution_count": 5,
     "metadata": {},
     "output_type": "execute_result"
    }
   ],
   "source": [
    "train_data['Age'].describe()"
   ]
  },
  {
   "cell_type": "code",
   "execution_count": 6,
   "metadata": {},
   "outputs": [
    {
     "data": {
      "text/html": [
       "<div>\n",
       "<style scoped>\n",
       "    .dataframe tbody tr th:only-of-type {\n",
       "        vertical-align: middle;\n",
       "    }\n",
       "\n",
       "    .dataframe tbody tr th {\n",
       "        vertical-align: top;\n",
       "    }\n",
       "\n",
       "    .dataframe thead th {\n",
       "        text-align: right;\n",
       "    }\n",
       "</style>\n",
       "<table border=\"1\" class=\"dataframe\">\n",
       "  <thead>\n",
       "    <tr style=\"text-align: right;\">\n",
       "      <th>Survived</th>\n",
       "      <th>0</th>\n",
       "      <th>1</th>\n",
       "    </tr>\n",
       "    <tr>\n",
       "      <th>Age</th>\n",
       "      <th></th>\n",
       "      <th></th>\n",
       "    </tr>\n",
       "  </thead>\n",
       "  <tbody>\n",
       "    <tr>\n",
       "      <th>young child</th>\n",
       "      <td>10</td>\n",
       "      <td>20</td>\n",
       "    </tr>\n",
       "    <tr>\n",
       "      <th>child</th>\n",
       "      <td>19</td>\n",
       "      <td>20</td>\n",
       "    </tr>\n",
       "    <tr>\n",
       "      <th>teen</th>\n",
       "      <td>40</td>\n",
       "      <td>30</td>\n",
       "    </tr>\n",
       "    <tr>\n",
       "      <th>adult</th>\n",
       "      <td>260</td>\n",
       "      <td>165</td>\n",
       "    </tr>\n",
       "    <tr>\n",
       "      <th>older adult</th>\n",
       "      <td>78</td>\n",
       "      <td>50</td>\n",
       "    </tr>\n",
       "    <tr>\n",
       "      <th>elderly</th>\n",
       "      <td>17</td>\n",
       "      <td>5</td>\n",
       "    </tr>\n",
       "  </tbody>\n",
       "</table>\n",
       "</div>"
      ],
      "text/plain": [
       "Survived       0    1\n",
       "Age                  \n",
       "young child   10   20\n",
       "child         19   20\n",
       "teen          40   30\n",
       "adult        260  165\n",
       "older adult   78   50\n",
       "elderly       17    5"
      ]
     },
     "execution_count": 6,
     "metadata": {},
     "output_type": "execute_result"
    }
   ],
   "source": [
    "# Recode age into buckets\n",
    "age_cut_bins = [0, 3, 12, 18, 40, 60, 90]\n",
    "age_cut_labels = ['young child','child', 'teen', 'adult', 'older adult', 'elderly']\n",
    "\n",
    "train_data['Age'] = pd.cut(train_data['Age'], bins=age_cut_bins, labels=age_cut_labels)\n",
    "test_data['Age'] = pd.cut(test_data['Age'], bins=age_cut_bins, labels=age_cut_labels)\n",
    "\n",
    "pd.crosstab(index=train_data['Age'], columns=train_data['Survived'])"
   ]
  },
  {
   "cell_type": "markdown",
   "metadata": {},
   "source": [
    "##### Only keep features that I think intuitively would matter"
   ]
  },
  {
   "cell_type": "code",
   "execution_count": 7,
   "metadata": {},
   "outputs": [],
   "source": [
    "# feature_cols = ['Pclass', 'Sex', 'Age_bin', 'Embarked']\n",
    "# test_data = test_data[feature_cols]\n",
    "\n",
    "# feature_cols.append('Survived')\n",
    "# train_data = train_data[feature_cols]"
   ]
  },
  {
   "cell_type": "code",
   "execution_count": 8,
   "metadata": {},
   "outputs": [
    {
     "name": "stderr",
     "output_type": "stream",
     "text": [
      "No output_directory specified. Models will be saved in: AutogluonModels/ag-20201009_043819/\n",
      "Beginning AutoGluon training ...\n",
      "AutoGluon will save models to AutogluonModels/ag-20201009_043819/\n",
      "AutoGluon Version:  0.0.14\n",
      "Train Data Rows:    891\n",
      "Train Data Columns: 11\n",
      "Preprocessing data ...\n",
      "AutoGluon infers your prediction problem is: 'binary' (because only two unique label-values observed).\n",
      "\t2 unique label values:  [0, 1]\n",
      "\tIf 'binary' is not the correct problem_type, please manually specify the problem_type argument in fit() (You may specify problem_type as one of: ['binary', 'multiclass', 'regression'])\n",
      "Selected class <--> label mapping:  class 1 = 1, class 0 = 0\n",
      "Using Feature Generators to preprocess the data ...\n",
      "Fitting AutoMLPipelineFeatureGenerator...\n",
      "\tAvailable Memory:                    6503.4 MB\n",
      "\tTrain Data (Original)  Memory Usage: 0.31 MB (0.0% of available memory)\n",
      "\tInferring data type of each feature based on column values. Set feature_metadata_in to manually specify special dtypes of the features.\n",
      "\tStage 1 Generators:\n",
      "\t\tFitting AsTypeFeatureGenerator...\n",
      "\tStage 2 Generators:\n",
      "\t\tFitting FillNaFeatureGenerator...\n",
      "\tStage 3 Generators:\n",
      "\t\tFitting IdentityFeatureGenerator...\n",
      "\t\tFitting CategoryFeatureGenerator...\n",
      "\t\t\tFitting CategoryMemoryMinimizeFeatureGenerator...\n",
      "\t\tFitting TextSpecialFeatureGenerator...\n",
      "\t\t\tFitting BinnedFeatureGenerator...\n",
      "\t\t\tFitting DropDuplicatesFeatureGenerator...\n",
      "\t\tFitting TextNgramFeatureGenerator...\n",
      "\t\t\tFitting CountVectorizer for text features: ['Name']\n",
      "\t\t\tCountVectorizer fit with vocabulary size = 8\n",
      "\tStage 4 Generators:\n",
      "\t\tFitting DropUniqueFeatureGenerator...\n",
      "\tTypes of features in original data (raw dtype, special dtypes):\n",
      "\t\t('category', [])     : 1 | ['Age']\n",
      "\t\t('float', [])        : 1 | ['Fare']\n",
      "\t\t('int', [])          : 4 | ['PassengerId', 'Pclass', 'SibSp', 'Parch']\n",
      "\t\t('object', [])       : 4 | ['Sex', 'Ticket', 'Cabin', 'Embarked']\n",
      "\t\t('object', ['text']) : 1 | ['Name']\n",
      "\tTypes of features in processed data (raw dtype, special dtypes):\n",
      "\t\t('category', [])                    :  5 | ['Sex', 'Age', 'Ticket', 'Cabin', 'Embarked']\n",
      "\t\t('float', [])                       :  1 | ['Fare']\n",
      "\t\t('int', [])                         :  4 | ['PassengerId', 'Pclass', 'SibSp', 'Parch']\n",
      "\t\t('int', ['binned', 'text_special']) : 12 | ['Name.char_count', 'Name.word_count', 'Name.capital_ratio', 'Name.lower_ratio', 'Name.special_ratio', ...]\n",
      "\t\t('int', ['text_ngram'])             :  9 | ['__nlp__.henry', '__nlp__.john', '__nlp__.master', '__nlp__.miss', '__nlp__.mr', ...]\n",
      "\t0.6s = Fit runtime\n",
      "\t11 features in original data used to generate 31 features in processed data.\n",
      "\tTrain Data (Processed) Memory Usage: 0.07 MB (0.0% of available memory)\n",
      "Data preprocessing and feature engineering runtime = 0.63s ...\n",
      "AutoGluon will gauge predictive performance using evaluation metric: 'accuracy'\n",
      "\tTo change this, specify the eval_metric argument of fit()\n",
      "AutoGluon will early stop models using evaluation metric: 'accuracy'\n",
      "Fitting model: RandomForestClassifierGini ...\n",
      "\t0.8101\t = Validation accuracy score\n",
      "\t0.41s\t = Training runtime\n",
      "\t0.04s\t = Validation runtime\n",
      "Fitting model: RandomForestClassifierEntr ...\n",
      "\t0.8212\t = Validation accuracy score\n",
      "\t0.43s\t = Training runtime\n",
      "\t0.04s\t = Validation runtime\n",
      "Fitting model: ExtraTreesClassifierGini ...\n",
      "\t0.8268\t = Validation accuracy score\n",
      "\t0.32s\t = Training runtime\n",
      "\t0.04s\t = Validation runtime\n",
      "Fitting model: ExtraTreesClassifierEntr ...\n",
      "\t0.8156\t = Validation accuracy score\n",
      "\t0.34s\t = Training runtime\n",
      "\t0.03s\t = Validation runtime\n",
      "Fitting model: KNeighborsClassifierUnif ...\n",
      "\t0.648\t = Validation accuracy score\n",
      "\t0.0s\t = Training runtime\n",
      "\t0.01s\t = Validation runtime\n",
      "Fitting model: KNeighborsClassifierDist ...\n",
      "\t0.6369\t = Validation accuracy score\n",
      "\t0.0s\t = Training runtime\n",
      "\t0.01s\t = Validation runtime\n",
      "Fitting model: LightGBMClassifier ...\n",
      "\t0.8324\t = Validation accuracy score\n",
      "\t0.41s\t = Training runtime\n",
      "\t0.01s\t = Validation runtime\n",
      "Fitting model: LightGBMClassifierXT ...\n",
      "\t0.8101\t = Validation accuracy score\n",
      "\t0.18s\t = Training runtime\n",
      "\t0.01s\t = Validation runtime\n",
      "Fitting model: CatboostClassifier ...\n",
      "\t0.8268\t = Validation accuracy score\n",
      "\t0.65s\t = Training runtime\n",
      "\t0.01s\t = Validation runtime\n",
      "Fitting model: NeuralNetClassifier ...\n",
      "\t0.8212\t = Validation accuracy score\n",
      "\t5.23s\t = Training runtime\n",
      "\t0.03s\t = Validation runtime\n",
      "Fitting model: LightGBMClassifierCustom ...\n",
      "\t0.8324\t = Validation accuracy score\n",
      "\t0.41s\t = Training runtime\n",
      "\t0.01s\t = Validation runtime\n",
      "Fitting model: weighted_ensemble_k0_l1 ...\n",
      "\t0.8659\t = Validation accuracy score\n",
      "\t0.26s\t = Training runtime\n",
      "\t0.0s\t = Validation runtime\n",
      "AutoGluon training complete, total runtime = 10.04s ...\n"
     ]
    }
   ],
   "source": [
    "predictor = task.fit(train_data=task.Dataset(df=train_data), label='Survived')\n",
    "predictions = predictor.predict(task.Dataset(df=test_data))"
   ]
  },
  {
   "cell_type": "code",
   "execution_count": 9,
   "metadata": {},
   "outputs": [],
   "source": [
    "# Prediction to series\n",
    "predictions_ser = pd.Series(predictions)\n",
    "\n",
    "# Load passenger IDs, combine with predictions\n",
    "test_ids = pd.read_csv(\"../data/test.csv\")\n",
    "test_ids = test_ids['PassengerId']\n",
    "\n",
    "submission = pd.DataFrame({'PassengerId': test_ids, 'Survived': predictions_ser})"
   ]
  },
  {
   "cell_type": "code",
   "execution_count": 10,
   "metadata": {},
   "outputs": [
    {
     "data": {
      "text/html": [
       "<div>\n",
       "<style scoped>\n",
       "    .dataframe tbody tr th:only-of-type {\n",
       "        vertical-align: middle;\n",
       "    }\n",
       "\n",
       "    .dataframe tbody tr th {\n",
       "        vertical-align: top;\n",
       "    }\n",
       "\n",
       "    .dataframe thead th {\n",
       "        text-align: right;\n",
       "    }\n",
       "</style>\n",
       "<table border=\"1\" class=\"dataframe\">\n",
       "  <thead>\n",
       "    <tr style=\"text-align: right;\">\n",
       "      <th></th>\n",
       "      <th>PassengerId</th>\n",
       "      <th>Survived</th>\n",
       "    </tr>\n",
       "  </thead>\n",
       "  <tbody>\n",
       "    <tr>\n",
       "      <th>0</th>\n",
       "      <td>892</td>\n",
       "      <td>0</td>\n",
       "    </tr>\n",
       "    <tr>\n",
       "      <th>1</th>\n",
       "      <td>893</td>\n",
       "      <td>1</td>\n",
       "    </tr>\n",
       "    <tr>\n",
       "      <th>2</th>\n",
       "      <td>894</td>\n",
       "      <td>0</td>\n",
       "    </tr>\n",
       "    <tr>\n",
       "      <th>3</th>\n",
       "      <td>895</td>\n",
       "      <td>0</td>\n",
       "    </tr>\n",
       "    <tr>\n",
       "      <th>4</th>\n",
       "      <td>896</td>\n",
       "      <td>0</td>\n",
       "    </tr>\n",
       "  </tbody>\n",
       "</table>\n",
       "</div>"
      ],
      "text/plain": [
       "   PassengerId  Survived\n",
       "0          892         0\n",
       "1          893         1\n",
       "2          894         0\n",
       "3          895         0\n",
       "4          896         0"
      ]
     },
     "execution_count": 10,
     "metadata": {},
     "output_type": "execute_result"
    }
   ],
   "source": [
    "submission.head()"
   ]
  },
  {
   "cell_type": "code",
   "execution_count": 11,
   "metadata": {},
   "outputs": [],
   "source": [
    "submission.to_csv(\"../submissions/kaggle_titanic_autogluon_engineered.csv\", index=False)"
   ]
  },
  {
   "cell_type": "markdown",
   "metadata": {},
   "source": [
    "##### Under the Hood"
   ]
  },
  {
   "cell_type": "code",
   "execution_count": 12,
   "metadata": {},
   "outputs": [
    {
     "name": "stdout",
     "output_type": "stream",
     "text": [
      "*** Summary of fit() ***\n",
      "Estimated performance of each model:\n",
      "                         model  score_val  pred_time_val  fit_time  pred_time_val_marginal  fit_time_marginal  stack_level  can_infer  fit_order\n",
      "0      weighted_ensemble_k0_l1   0.865922       0.178993  8.322848                0.000510           0.257026            1       True         12\n",
      "1     LightGBMClassifierCustom   0.832402       0.009358  0.409891                0.009358           0.409891            0       True         11\n",
      "2           LightGBMClassifier   0.832402       0.009634  0.413623                0.009634           0.413623            0       True          7\n",
      "3           CatboostClassifier   0.826816       0.008275  0.645415                0.008275           0.645415            0       True          9\n",
      "4     ExtraTreesClassifierGini   0.826816       0.035844  0.322851                0.035844           0.322851            0       True          3\n",
      "5          NeuralNetClassifier   0.821229       0.030433  5.232455                0.030433           5.232455            0       True         10\n",
      "6   RandomForestClassifierEntr   0.821229       0.040029  0.430527                0.040029           0.430527            0       True          2\n",
      "7     ExtraTreesClassifierEntr   0.815642       0.034025  0.337128                0.034025           0.337128            0       True          4\n",
      "8         LightGBMClassifierXT   0.810056       0.009832  0.182218                0.009832           0.182218            0       True          8\n",
      "9   RandomForestClassifierGini   0.810056       0.036896  0.414565                0.036896           0.414565            0       True          1\n",
      "10    KNeighborsClassifierUnif   0.648045       0.008302  0.003718                0.008302           0.003718            0       True          5\n",
      "11    KNeighborsClassifierDist   0.636872       0.006660  0.002348                0.006660           0.002348            0       True          6\n",
      "Number of models trained: 12\n",
      "Types of models trained:\n",
      "{'KNNModel', 'XTModel', 'CatboostModel', 'TabularNeuralNetModel', 'LGBModel', 'WeightedEnsembleModel', 'RFModel'}\n",
      "Bagging used: False \n",
      "Stack-ensembling used: False \n",
      "Hyperparameter-tuning used: False \n",
      "User-specified hyperparameters:\n",
      "{'default': {'NN': [{}], 'GBM': [{}, {'extra_trees': True, 'AG_args': {'name_suffix': 'XT'}}], 'CAT': [{}], 'RF': [{'criterion': 'gini', 'AG_args': {'name_suffix': 'Gini', 'problem_types': ['binary', 'multiclass']}}, {'criterion': 'entropy', 'AG_args': {'name_suffix': 'Entr', 'problem_types': ['binary', 'multiclass']}}], 'XT': [{'criterion': 'gini', 'AG_args': {'name_suffix': 'Gini', 'problem_types': ['binary', 'multiclass']}}, {'criterion': 'entropy', 'AG_args': {'name_suffix': 'Entr', 'problem_types': ['binary', 'multiclass']}}], 'KNN': [{'weights': 'uniform', 'AG_args': {'name_suffix': 'Unif'}}, {'weights': 'distance', 'AG_args': {'name_suffix': 'Dist'}}], 'custom': [{'num_boost_round': 10000, 'num_threads': -1, 'objective': 'binary', 'verbose': -1, 'boosting_type': 'gbdt', 'learning_rate': 0.03, 'num_leaves': 128, 'feature_fraction': 0.9, 'min_data_in_leaf': 5, 'two_round': True, 'seed_value': 0, 'AG_args': {'model_type': 'GBM', 'name_suffix': 'Custom', 'disable_in_hpo': True}}]}}\n",
      "Feature Metadata (Processed):\n",
      "(raw dtype, special dtypes):\n",
      "('category', [])                    :  5 | ['Sex', 'Age', 'Ticket', 'Cabin', 'Embarked']\n",
      "('float', [])                       :  1 | ['Fare']\n",
      "('int', [])                         :  4 | ['PassengerId', 'Pclass', 'SibSp', 'Parch']\n",
      "('int', ['binned', 'text_special']) : 12 | ['Name.char_count', 'Name.word_count', 'Name.capital_ratio', 'Name.lower_ratio', 'Name.special_ratio', ...]\n",
      "('int', ['text_ngram'])             :  9 | ['__nlp__.henry', '__nlp__.john', '__nlp__.master', '__nlp__.miss', '__nlp__.mr', ...]\n",
      "Plot summary of models saved to file: AutogluonModels/ag-20201009_043819/SummaryOfModels.html\n",
      "*** End of fit() summary ***\n"
     ]
    },
    {
     "data": {
      "text/plain": [
       "<function dict.values>"
      ]
     },
     "execution_count": 12,
     "metadata": {},
     "output_type": "execute_result"
    }
   ],
   "source": [
    "predictor.fit_summary().values"
   ]
  },
  {
   "cell_type": "code",
   "execution_count": 13,
   "metadata": {},
   "outputs": [
    {
     "name": "stdout",
     "output_type": "stream",
     "text": [
      "                         model  score_val  pred_time_val  fit_time  pred_time_val_marginal  fit_time_marginal  stack_level  can_infer  fit_order\n",
      "0      weighted_ensemble_k0_l1   0.865922       0.178993  8.322848                0.000510           0.257026            1       True         12\n",
      "1     LightGBMClassifierCustom   0.832402       0.009358  0.409891                0.009358           0.409891            0       True         11\n",
      "2           LightGBMClassifier   0.832402       0.009634  0.413623                0.009634           0.413623            0       True          7\n",
      "3           CatboostClassifier   0.826816       0.008275  0.645415                0.008275           0.645415            0       True          9\n",
      "4     ExtraTreesClassifierGini   0.826816       0.035844  0.322851                0.035844           0.322851            0       True          3\n",
      "5          NeuralNetClassifier   0.821229       0.030433  5.232455                0.030433           5.232455            0       True         10\n",
      "6   RandomForestClassifierEntr   0.821229       0.040029  0.430527                0.040029           0.430527            0       True          2\n",
      "7     ExtraTreesClassifierEntr   0.815642       0.034025  0.337128                0.034025           0.337128            0       True          4\n",
      "8         LightGBMClassifierXT   0.810056       0.009832  0.182218                0.009832           0.182218            0       True          8\n",
      "9   RandomForestClassifierGini   0.810056       0.036896  0.414565                0.036896           0.414565            0       True          1\n",
      "10    KNeighborsClassifierUnif   0.648045       0.008302  0.003718                0.008302           0.003718            0       True          5\n",
      "11    KNeighborsClassifierDist   0.636872       0.006660  0.002348                0.006660           0.002348            0       True          6\n"
     ]
    },
    {
     "data": {
      "text/html": [
       "<div>\n",
       "<style scoped>\n",
       "    .dataframe tbody tr th:only-of-type {\n",
       "        vertical-align: middle;\n",
       "    }\n",
       "\n",
       "    .dataframe tbody tr th {\n",
       "        vertical-align: top;\n",
       "    }\n",
       "\n",
       "    .dataframe thead th {\n",
       "        text-align: right;\n",
       "    }\n",
       "</style>\n",
       "<table border=\"1\" class=\"dataframe\">\n",
       "  <thead>\n",
       "    <tr style=\"text-align: right;\">\n",
       "      <th></th>\n",
       "      <th>model</th>\n",
       "      <th>score_val</th>\n",
       "      <th>pred_time_val</th>\n",
       "      <th>fit_time</th>\n",
       "      <th>pred_time_val_marginal</th>\n",
       "      <th>fit_time_marginal</th>\n",
       "      <th>stack_level</th>\n",
       "      <th>can_infer</th>\n",
       "      <th>fit_order</th>\n",
       "    </tr>\n",
       "  </thead>\n",
       "  <tbody>\n",
       "    <tr>\n",
       "      <th>0</th>\n",
       "      <td>weighted_ensemble_k0_l1</td>\n",
       "      <td>0.865922</td>\n",
       "      <td>0.178993</td>\n",
       "      <td>8.322848</td>\n",
       "      <td>0.000510</td>\n",
       "      <td>0.257026</td>\n",
       "      <td>1</td>\n",
       "      <td>True</td>\n",
       "      <td>12</td>\n",
       "    </tr>\n",
       "    <tr>\n",
       "      <th>1</th>\n",
       "      <td>LightGBMClassifierCustom</td>\n",
       "      <td>0.832402</td>\n",
       "      <td>0.009358</td>\n",
       "      <td>0.409891</td>\n",
       "      <td>0.009358</td>\n",
       "      <td>0.409891</td>\n",
       "      <td>0</td>\n",
       "      <td>True</td>\n",
       "      <td>11</td>\n",
       "    </tr>\n",
       "    <tr>\n",
       "      <th>2</th>\n",
       "      <td>LightGBMClassifier</td>\n",
       "      <td>0.832402</td>\n",
       "      <td>0.009634</td>\n",
       "      <td>0.413623</td>\n",
       "      <td>0.009634</td>\n",
       "      <td>0.413623</td>\n",
       "      <td>0</td>\n",
       "      <td>True</td>\n",
       "      <td>7</td>\n",
       "    </tr>\n",
       "    <tr>\n",
       "      <th>3</th>\n",
       "      <td>CatboostClassifier</td>\n",
       "      <td>0.826816</td>\n",
       "      <td>0.008275</td>\n",
       "      <td>0.645415</td>\n",
       "      <td>0.008275</td>\n",
       "      <td>0.645415</td>\n",
       "      <td>0</td>\n",
       "      <td>True</td>\n",
       "      <td>9</td>\n",
       "    </tr>\n",
       "    <tr>\n",
       "      <th>4</th>\n",
       "      <td>ExtraTreesClassifierGini</td>\n",
       "      <td>0.826816</td>\n",
       "      <td>0.035844</td>\n",
       "      <td>0.322851</td>\n",
       "      <td>0.035844</td>\n",
       "      <td>0.322851</td>\n",
       "      <td>0</td>\n",
       "      <td>True</td>\n",
       "      <td>3</td>\n",
       "    </tr>\n",
       "    <tr>\n",
       "      <th>5</th>\n",
       "      <td>NeuralNetClassifier</td>\n",
       "      <td>0.821229</td>\n",
       "      <td>0.030433</td>\n",
       "      <td>5.232455</td>\n",
       "      <td>0.030433</td>\n",
       "      <td>5.232455</td>\n",
       "      <td>0</td>\n",
       "      <td>True</td>\n",
       "      <td>10</td>\n",
       "    </tr>\n",
       "    <tr>\n",
       "      <th>6</th>\n",
       "      <td>RandomForestClassifierEntr</td>\n",
       "      <td>0.821229</td>\n",
       "      <td>0.040029</td>\n",
       "      <td>0.430527</td>\n",
       "      <td>0.040029</td>\n",
       "      <td>0.430527</td>\n",
       "      <td>0</td>\n",
       "      <td>True</td>\n",
       "      <td>2</td>\n",
       "    </tr>\n",
       "    <tr>\n",
       "      <th>7</th>\n",
       "      <td>ExtraTreesClassifierEntr</td>\n",
       "      <td>0.815642</td>\n",
       "      <td>0.034025</td>\n",
       "      <td>0.337128</td>\n",
       "      <td>0.034025</td>\n",
       "      <td>0.337128</td>\n",
       "      <td>0</td>\n",
       "      <td>True</td>\n",
       "      <td>4</td>\n",
       "    </tr>\n",
       "    <tr>\n",
       "      <th>8</th>\n",
       "      <td>LightGBMClassifierXT</td>\n",
       "      <td>0.810056</td>\n",
       "      <td>0.009832</td>\n",
       "      <td>0.182218</td>\n",
       "      <td>0.009832</td>\n",
       "      <td>0.182218</td>\n",
       "      <td>0</td>\n",
       "      <td>True</td>\n",
       "      <td>8</td>\n",
       "    </tr>\n",
       "    <tr>\n",
       "      <th>9</th>\n",
       "      <td>RandomForestClassifierGini</td>\n",
       "      <td>0.810056</td>\n",
       "      <td>0.036896</td>\n",
       "      <td>0.414565</td>\n",
       "      <td>0.036896</td>\n",
       "      <td>0.414565</td>\n",
       "      <td>0</td>\n",
       "      <td>True</td>\n",
       "      <td>1</td>\n",
       "    </tr>\n",
       "    <tr>\n",
       "      <th>10</th>\n",
       "      <td>KNeighborsClassifierUnif</td>\n",
       "      <td>0.648045</td>\n",
       "      <td>0.008302</td>\n",
       "      <td>0.003718</td>\n",
       "      <td>0.008302</td>\n",
       "      <td>0.003718</td>\n",
       "      <td>0</td>\n",
       "      <td>True</td>\n",
       "      <td>5</td>\n",
       "    </tr>\n",
       "    <tr>\n",
       "      <th>11</th>\n",
       "      <td>KNeighborsClassifierDist</td>\n",
       "      <td>0.636872</td>\n",
       "      <td>0.006660</td>\n",
       "      <td>0.002348</td>\n",
       "      <td>0.006660</td>\n",
       "      <td>0.002348</td>\n",
       "      <td>0</td>\n",
       "      <td>True</td>\n",
       "      <td>6</td>\n",
       "    </tr>\n",
       "  </tbody>\n",
       "</table>\n",
       "</div>"
      ],
      "text/plain": [
       "                         model  score_val  pred_time_val  fit_time  \\\n",
       "0      weighted_ensemble_k0_l1   0.865922       0.178993  8.322848   \n",
       "1     LightGBMClassifierCustom   0.832402       0.009358  0.409891   \n",
       "2           LightGBMClassifier   0.832402       0.009634  0.413623   \n",
       "3           CatboostClassifier   0.826816       0.008275  0.645415   \n",
       "4     ExtraTreesClassifierGini   0.826816       0.035844  0.322851   \n",
       "5          NeuralNetClassifier   0.821229       0.030433  5.232455   \n",
       "6   RandomForestClassifierEntr   0.821229       0.040029  0.430527   \n",
       "7     ExtraTreesClassifierEntr   0.815642       0.034025  0.337128   \n",
       "8         LightGBMClassifierXT   0.810056       0.009832  0.182218   \n",
       "9   RandomForestClassifierGini   0.810056       0.036896  0.414565   \n",
       "10    KNeighborsClassifierUnif   0.648045       0.008302  0.003718   \n",
       "11    KNeighborsClassifierDist   0.636872       0.006660  0.002348   \n",
       "\n",
       "    pred_time_val_marginal  fit_time_marginal  stack_level  can_infer  \\\n",
       "0                 0.000510           0.257026            1       True   \n",
       "1                 0.009358           0.409891            0       True   \n",
       "2                 0.009634           0.413623            0       True   \n",
       "3                 0.008275           0.645415            0       True   \n",
       "4                 0.035844           0.322851            0       True   \n",
       "5                 0.030433           5.232455            0       True   \n",
       "6                 0.040029           0.430527            0       True   \n",
       "7                 0.034025           0.337128            0       True   \n",
       "8                 0.009832           0.182218            0       True   \n",
       "9                 0.036896           0.414565            0       True   \n",
       "10                0.008302           0.003718            0       True   \n",
       "11                0.006660           0.002348            0       True   \n",
       "\n",
       "    fit_order  \n",
       "0          12  \n",
       "1          11  \n",
       "2           7  \n",
       "3           9  \n",
       "4           3  \n",
       "5          10  \n",
       "6           2  \n",
       "7           4  \n",
       "8           8  \n",
       "9           1  \n",
       "10          5  \n",
       "11          6  "
      ]
     },
     "execution_count": 13,
     "metadata": {},
     "output_type": "execute_result"
    }
   ],
   "source": [
    "predictor.leaderboard()"
   ]
  },
  {
   "cell_type": "code",
   "execution_count": 14,
   "metadata": {},
   "outputs": [
    {
     "name": "stderr",
     "output_type": "stream",
     "text": [
      "Computing raw permutation importance for 11 features on weighted_ensemble_k0_l1 ...\n",
      "\t6.46s\t= Expected runtime\n",
      "\t5.49s\t= Actual runtime\n"
     ]
    },
    {
     "data": {
      "text/plain": [
       "Sex            0.172840\n",
       "Name           0.151515\n",
       "Pclass         0.074074\n",
       "Fare           0.048260\n",
       "PassengerId    0.038159\n",
       "Ticket         0.032548\n",
       "Cabin          0.024691\n",
       "Age            0.019080\n",
       "SibSp          0.015713\n",
       "Embarked       0.014590\n",
       "Parch          0.010101\n",
       "dtype: float64"
      ]
     },
     "execution_count": 14,
     "metadata": {},
     "output_type": "execute_result"
    }
   ],
   "source": [
    "predictor.feature_importance(train_data)"
   ]
  },
  {
   "cell_type": "code",
   "execution_count": 15,
   "metadata": {},
   "outputs": [
    {
     "name": "stderr",
     "output_type": "stream",
     "text": [
      "Computing raw permutation importance for 31 features on weighted_ensemble_k0_l1 ...\n",
      "\t7.97s\t= Expected runtime\n",
      "\t8.18s\t= Actual runtime\n"
     ]
    },
    {
     "data": {
      "text/plain": [
       "Sex                    0.117318\n",
       "Pclass                 0.078212\n",
       "Fare                   0.039106\n",
       "Ticket                 0.039106\n",
       "__nlp__.mr             0.033520\n",
       "Name.lower_ratio       0.027933\n",
       "Age                    0.027933\n",
       "PassengerId            0.027933\n",
       "Embarked               0.027933\n",
       "Cabin                  0.022346\n",
       "Parch                  0.016760\n",
       "Name.char_count        0.016760\n",
       "__nlp__.master         0.016760\n",
       "Name.symbol_ratio..    0.016760\n",
       "Name.special_ratio     0.016760\n",
       "Name.capital_ratio     0.016760\n",
       "SibSp                  0.011173\n",
       "__nlp__.miss           0.011173\n",
       "Name.symbol_count.     0.011173\n",
       "__nlp__.mrs            0.011173\n",
       "Name.symbol_count..    0.005587\n",
       "Name.word_count        0.005587\n",
       "Name.symbol_ratio.     0.005587\n",
       "Name.symbol_count.-    0.005587\n",
       "__nlp__.william        0.000000\n",
       "Name.symbol_count./    0.000000\n",
       "Name.symbol_ratio.-    0.000000\n",
       "__nlp__.henry          0.000000\n",
       "__nlp__.john           0.000000\n",
       "__nlp__.mr william     0.000000\n",
       "__nlp__._total_        0.000000\n",
       "dtype: float64"
      ]
     },
     "execution_count": 15,
     "metadata": {},
     "output_type": "execute_result"
    }
   ],
   "source": [
    "predictor.feature_importance(feature_stage='transformed')"
   ]
  },
  {
   "cell_type": "code",
   "execution_count": null,
   "metadata": {},
   "outputs": [],
   "source": []
  }
 ],
 "metadata": {
  "kernelspec": {
   "display_name": "Python [conda env:autogluon]",
   "language": "python",
   "name": "conda-env-autogluon-py"
  },
  "language_info": {
   "codemirror_mode": {
    "name": "ipython",
    "version": 3
   },
   "file_extension": ".py",
   "mimetype": "text/x-python",
   "name": "python",
   "nbconvert_exporter": "python",
   "pygments_lexer": "ipython3",
   "version": "3.8.5"
  }
 },
 "nbformat": 4,
 "nbformat_minor": 4
}
